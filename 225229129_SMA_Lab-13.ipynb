{
 "cells": [
  {
   "cell_type": "markdown",
   "metadata": {},
   "source": [
    "### \n",
    "NAME  : RAHINI DEVI S\n",
    "    \n",
    "ROLLNO: 225229129\n",
    "    \n",
    "SMA_LAB-13"
   ]
  },
  {
   "cell_type": "code",
   "execution_count": 0,
   "metadata": {
    "application/vnd.databricks.v1+cell": {
     "cellMetadata": {
      "byteLimit": 2048000,
      "rowLimit": 10000
     },
     "inputWidgets": {},
     "nuid": "bfb53b66-c7ad-46f2-b257-526c74f208a7",
     "showTitle": false,
     "title": ""
    }
   },
   "outputs": [],
   "source": [
    "from pyspark.sql import SparkSession\n",
    "from pyspark.sql.types import *\n",
    "from pyspark.sql.functions import *\n",
    "from pyspark.sql.types import Row\n",
    "from datetime import datetime"
   ]
  },
  {
   "cell_type": "code",
   "execution_count": 0,
   "metadata": {
    "application/vnd.databricks.v1+cell": {
     "cellMetadata": {
      "byteLimit": 2048000,
      "rowLimit": 10000
     },
     "inputWidgets": {},
     "nuid": "069bc676-852b-4bfa-abc3-c9de9efd19b1",
     "showTitle": false,
     "title": ""
    }
   },
   "outputs": [],
   "source": [
    "spark = SparkSession.builder.appName(\"Python Spark SQL basic example\").config(\"spark.some.config.option\", \"some-value\").getOrCreate()"
   ]
  },
  {
   "cell_type": "code",
   "execution_count": 0,
   "metadata": {
    "application/vnd.databricks.v1+cell": {
     "cellMetadata": {
      "byteLimit": 2048000,
      "rowLimit": 10000
     },
     "inputWidgets": {},
     "nuid": "89c2a03e-b10d-4ca5-83df-38f24c0634d3",
     "showTitle": false,
     "title": ""
    }
   },
   "outputs": [],
   "source": [
    "student_records = sc.parallelize([Row(roll_no=1,name='John Doe',passed=True,marks={'Math':89,'Physics':87,'Chemistry':81},sports =['chess','football'], DoB=datetime(2012,5,1,13,1,5)), Row(roll_no=2,name='John Smith',passed=False,marks={'Math':29,'Physics':31,'Chemistry':36}, sports =['volleyball','tabletennis'], DoB=datetime(2012,5,12,14,2,5))])"
   ]
  },
  {
   "cell_type": "code",
   "execution_count": 0,
   "metadata": {
    "application/vnd.databricks.v1+cell": {
     "cellMetadata": {
      "byteLimit": 2048000,
      "rowLimit": 10000
     },
     "inputWidgets": {},
     "nuid": "e966e6bd-4044-4b17-a89f-ac2543ba05cc",
     "showTitle": false,
     "title": ""
    }
   },
   "outputs": [
    {
     "name": "stdout",
     "output_type": "stream",
     "text": [
      "+-------+----------+------+--------------------+--------------------+-------------------+\n",
      "|roll_no|      name|passed|               marks|              sports|                DoB|\n",
      "+-------+----------+------+--------------------+--------------------+-------------------+\n",
      "|      1|  John Doe|  true|{Chemistry -> 81,...|   [chess, football]|2012-05-01 13:01:05|\n",
      "|      2|John Smith| false|{Chemistry -> 36,...|[volleyball, tabl...|2012-05-12 14:02:05|\n",
      "+-------+----------+------+--------------------+--------------------+-------------------+\n",
      "\n"
     ]
    }
   ],
   "source": [
    "student_records_df  = student_records.toDF()\n",
    "student_records_df.show()"
   ]
  },
  {
   "cell_type": "code",
   "execution_count": 0,
   "metadata": {
    "application/vnd.databricks.v1+cell": {
     "cellMetadata": {
      "byteLimit": 2048000,
      "rowLimit": 10000
     },
     "inputWidgets": {},
     "nuid": "3f4a8738-7439-4f2b-8054-55c5da8d1aee",
     "showTitle": false,
     "title": ""
    }
   },
   "outputs": [
    {
     "name": "stdout",
     "output_type": "stream",
     "text": [
      "+-------+----------+------+--------------------------------------------+-------------------------+-------------------+\n",
      "|roll_no|name      |passed|marks                                       |sports                   |DoB                |\n",
      "+-------+----------+------+--------------------------------------------+-------------------------+-------------------+\n",
      "|1      |John Doe  |true  |{Chemistry -> 81, Math -> 89, Physics -> 87}|[chess, football]        |2012-05-01 13:01:05|\n",
      "|2      |John Smith|false |{Chemistry -> 36, Math -> 29, Physics -> 31}|[volleyball, tabletennis]|2012-05-12 14:02:05|\n",
      "+-------+----------+------+--------------------------------------------+-------------------------+-------------------+\n",
      "\n"
     ]
    }
   ],
   "source": [
    "student_records_df.show(truncate=False)"
   ]
  },
  {
   "cell_type": "code",
   "execution_count": 0,
   "metadata": {
    "application/vnd.databricks.v1+cell": {
     "cellMetadata": {
      "byteLimit": 2048000,
      "rowLimit": 10000
     },
     "inputWidgets": {},
     "nuid": "5321dd59-f4f9-4ac0-a325-dac63483d1f8",
     "showTitle": false,
     "title": ""
    }
   },
   "outputs": [],
   "source": [
    "student_records_df.createOrReplaceTempView('records')"
   ]
  },
  {
   "cell_type": "code",
   "execution_count": 0,
   "metadata": {
    "application/vnd.databricks.v1+cell": {
     "cellMetadata": {
      "byteLimit": 2048000,
      "rowLimit": 10000
     },
     "inputWidgets": {},
     "nuid": "171aa760-69b9-40b4-8636-9aa77bd2d97b",
     "showTitle": false,
     "title": ""
    }
   },
   "outputs": [
    {
     "name": "stdout",
     "output_type": "stream",
     "text": [
      "+-------+----------+------+--------------------+--------------------+-------------------+\n",
      "|roll_no|      name|passed|               marks|              sports|                DoB|\n",
      "+-------+----------+------+--------------------+--------------------+-------------------+\n",
      "|      1|  John Doe|  true|{Chemistry -> 81,...|   [chess, football]|2012-05-01 13:01:05|\n",
      "|      2|John Smith| false|{Chemistry -> 36,...|[volleyball, tabl...|2012-05-12 14:02:05|\n",
      "+-------+----------+------+--------------------+--------------------+-------------------+\n",
      "\n"
     ]
    }
   ],
   "source": [
    "spark.sql(\"SELECT * FROM records\").show()"
   ]
  },
  {
   "cell_type": "code",
   "execution_count": 0,
   "metadata": {
    "application/vnd.databricks.v1+cell": {
     "cellMetadata": {
      "byteLimit": 2048000,
      "rowLimit": 10000
     },
     "inputWidgets": {},
     "nuid": "69bfb6be-5e27-404b-be2f-24c1af98e1e3",
     "showTitle": false,
     "title": ""
    }
   },
   "outputs": [
    {
     "name": "stdout",
     "output_type": "stream",
     "text": [
      "+-------+--------------+-----------+\n",
      "|roll_no|marks[Physics]|  sports[1]|\n",
      "+-------+--------------+-----------+\n",
      "|      1|            87|   football|\n",
      "|      2|            31|tabletennis|\n",
      "+-------+--------------+-----------+\n",
      "\n"
     ]
    }
   ],
   "source": [
    "spark.sql('SELECT roll_no, marks[\"Physics\"], sports[1] FROM records').show()"
   ]
  },
  {
   "cell_type": "code",
   "execution_count": 0,
   "metadata": {
    "application/vnd.databricks.v1+cell": {
     "cellMetadata": {
      "byteLimit": 2048000,
      "rowLimit": 10000
     },
     "inputWidgets": {},
     "nuid": "0867a1de-b338-40b6-8f50-dff919e33739",
     "showTitle": false,
     "title": ""
    }
   },
   "outputs": [
    {
     "name": "stdout",
     "output_type": "stream",
     "text": [
      "+-------+--------+------+--------------------+-----------------+-------------------+\n",
      "|roll_no|    name|passed|               marks|           sports|                DoB|\n",
      "+-------+--------+------+--------------------+-----------------+-------------------+\n",
      "|      1|John Doe|  true|{Chemistry -> 81,...|[chess, football]|2012-05-01 13:01:05|\n",
      "+-------+--------+------+--------------------+-----------------+-------------------+\n",
      "\n"
     ]
    }
   ],
   "source": [
    "spark.sql(\"SELECT * FROM records where passed = True\").show()"
   ]
  },
  {
   "cell_type": "code",
   "execution_count": 0,
   "metadata": {
    "application/vnd.databricks.v1+cell": {
     "cellMetadata": {
      "byteLimit": 2048000,
      "rowLimit": 10000
     },
     "inputWidgets": {},
     "nuid": "93b97a26-3912-4fba-8e05-437d0db52c32",
     "showTitle": false,
     "title": ""
    }
   },
   "outputs": [
    {
     "name": "stdout",
     "output_type": "stream",
     "text": [
      "+-------+----------+------+--------------------+--------------------+-------------------+\n",
      "|roll_no|      name|passed|               marks|              sports|                DoB|\n",
      "+-------+----------+------+--------------------+--------------------+-------------------+\n",
      "|      2|John Smith| false|{Chemistry -> 36,...|[volleyball, tabl...|2012-05-12 14:02:05|\n",
      "+-------+----------+------+--------------------+--------------------+-------------------+\n",
      "\n"
     ]
    }
   ],
   "source": [
    "spark.sql('SELECT * FROM records WHERE marks[\"Chemistry\"] < 40').show()"
   ]
  },
  {
   "cell_type": "code",
   "execution_count": 0,
   "metadata": {
    "application/vnd.databricks.v1+cell": {
     "cellMetadata": {
      "byteLimit": 2048000,
      "rowLimit": 10000
     },
     "inputWidgets": {},
     "nuid": "6b7749c7-98c2-4d0e-8f54-a4f93ed3c04e",
     "showTitle": false,
     "title": ""
    }
   },
   "outputs": [],
   "source": [
    "student_records_df.createGlobalTempView('global_record')"
   ]
  },
  {
   "cell_type": "code",
   "execution_count": 0,
   "metadata": {
    "application/vnd.databricks.v1+cell": {
     "cellMetadata": {
      "byteLimit": 2048000,
      "rowLimit": 10000
     },
     "inputWidgets": {},
     "nuid": "34584616-9975-4d39-9bc6-030dbd374e28",
     "showTitle": false,
     "title": ""
    }
   },
   "outputs": [],
   "source": [
    "# Dropping Columns from DataFrame"
   ]
  },
  {
   "cell_type": "code",
   "execution_count": 0,
   "metadata": {
    "application/vnd.databricks.v1+cell": {
     "cellMetadata": {
      "byteLimit": 2048000,
      "rowLimit": 10000
     },
     "inputWidgets": {},
     "nuid": "d8359a76-ac99-4597-86f4-23cf56175689",
     "showTitle": false,
     "title": ""
    }
   },
   "outputs": [
    {
     "name": "stdout",
     "output_type": "stream",
     "text": [
      "Out[15]: ['roll_no', 'name', 'passed', 'marks', 'sports', 'DoB']"
     ]
    }
   ],
   "source": [
    "student_records_df.columns"
   ]
  },
  {
   "cell_type": "code",
   "execution_count": 0,
   "metadata": {
    "application/vnd.databricks.v1+cell": {
     "cellMetadata": {
      "byteLimit": 2048000,
      "rowLimit": 10000
     },
     "inputWidgets": {},
     "nuid": "8c42225e-9527-49ab-9aae-34590c7fef11",
     "showTitle": false,
     "title": ""
    }
   },
   "outputs": [],
   "source": [
    "student_records_df = student_records_df.drop('passed')"
   ]
  },
  {
   "cell_type": "code",
   "execution_count": 0,
   "metadata": {
    "application/vnd.databricks.v1+cell": {
     "cellMetadata": {
      "byteLimit": 2048000,
      "rowLimit": 10000
     },
     "inputWidgets": {},
     "nuid": "0eb59b66-11e5-4870-88f7-e475a3415168",
     "showTitle": false,
     "title": ""
    }
   },
   "outputs": [],
   "source": [
    "# Few More Queries"
   ]
  },
  {
   "cell_type": "code",
   "execution_count": 0,
   "metadata": {
    "application/vnd.databricks.v1+cell": {
     "cellMetadata": {
      "byteLimit": 2048000,
      "rowLimit": 10000
     },
     "inputWidgets": {},
     "nuid": "8905f1aa-372f-49f2-aa62-f0428750aae5",
     "showTitle": false,
     "title": ""
    }
   },
   "outputs": [
    {
     "name": "stdout",
     "output_type": "stream",
     "text": [
      "+---------+\n",
      "|avg_marks|\n",
      "+---------+\n",
      "|     86.0|\n",
      "|     32.0|\n",
      "+---------+\n",
      "\n"
     ]
    }
   ],
   "source": [
    "spark.sql(\"SELECT round( (marks.Physics+marks.Chemistry+marks.Math)/3) avg_marks FROM records\").show()"
   ]
  },
  {
   "cell_type": "code",
   "execution_count": 0,
   "metadata": {
    "application/vnd.databricks.v1+cell": {
     "cellMetadata": {
      "byteLimit": 2048000,
      "rowLimit": 10000
     },
     "inputWidgets": {},
     "nuid": "791c22b3-0685-4976-b3b7-0d66f5e18e48",
     "showTitle": false,
     "title": ""
    }
   },
   "outputs": [
    {
     "name": "stdout",
     "output_type": "stream",
     "text": [
      "+-------+----------+------+--------------------+--------------------+-------------------+---------+\n",
      "|roll_no|      name|passed|               marks|              sports|                DoB|avg_marks|\n",
      "+-------+----------+------+--------------------+--------------------+-------------------+---------+\n",
      "|      1|  John Doe|  true|{Chemistry -> 81,...|   [chess, football]|2012-05-01 13:01:05|     86.0|\n",
      "|      2|John Smith| false|{Chemistry -> 36,...|[volleyball, tabl...|2012-05-12 14:02:05|     32.0|\n",
      "+-------+----------+------+--------------------+--------------------+-------------------+---------+\n",
      "\n"
     ]
    }
   ],
   "source": [
    "student_records_df=spark.sql(\"SELECT *, round( (marks.Physics+marks.Chemistry+marks.Math)/3) avg_marks FROM records\")\n",
    "student_records_df.show()"
   ]
  },
  {
   "cell_type": "code",
   "execution_count": 0,
   "metadata": {
    "application/vnd.databricks.v1+cell": {
     "cellMetadata": {
      "byteLimit": 2048000,
      "rowLimit": 10000
     },
     "inputWidgets": {},
     "nuid": "cb0f416c-b6ec-4931-85a6-d7cbad70a3c0",
     "showTitle": false,
     "title": ""
    }
   },
   "outputs": [],
   "source": [
    "student_records_df.createOrReplaceTempView('records')"
   ]
  },
  {
   "cell_type": "code",
   "execution_count": 0,
   "metadata": {
    "application/vnd.databricks.v1+cell": {
     "cellMetadata": {
      "byteLimit": 2048000,
      "rowLimit": 10000
     },
     "inputWidgets": {},
     "nuid": "6ec5c72b-b43a-4e4f-af6b-7132dec86caa",
     "showTitle": false,
     "title": ""
    }
   },
   "outputs": [
    {
     "name": "stdout",
     "output_type": "stream",
     "text": [
      "+-------+----------+------+--------------------+--------------------+-------------------+---------+------+\n",
      "|roll_no|      name|passed|               marks|              sports|                DoB|avg_marks|status|\n",
      "+-------+----------+------+--------------------+--------------------+-------------------+---------+------+\n",
      "|      1|  John Doe|  true|{Chemistry -> 81,...|   [chess, football]|2012-05-01 13:01:05|     86.0|passed|\n",
      "|      2|John Smith| false|{Chemistry -> 36,...|[volleyball, tabl...|2012-05-12 14:02:05|     32.0|failed|\n",
      "+-------+----------+------+--------------------+--------------------+-------------------+---------+------+\n",
      "\n"
     ]
    }
   ],
   "source": [
    "student_records_df  = student_records_df.withColumn('status',(when(col('avg_marks')>=40, 'passed')).otherwise('failed'))\n",
    "student_records_df.show()"
   ]
  },
  {
   "cell_type": "code",
   "execution_count": 0,
   "metadata": {
    "application/vnd.databricks.v1+cell": {
     "cellMetadata": {
      "byteLimit": 2048000,
      "rowLimit": 10000
     },
     "inputWidgets": {},
     "nuid": "473ee46e-e841-44ea-aeae-b161d6524b83",
     "showTitle": false,
     "title": ""
    }
   },
   "outputs": [],
   "source": [
    "employeeData =(('John','HR','NY',90000,34,10000),\n",
    "('Neha','HR','NY',86000,28,20000),\n",
    "('Robert','Sales','CA',81000,56,22000),\n",
    "('Maria','Sales','CA',99000,45,15000),\n",
    "('Paul','IT','NY',98000,38,14000),\n",
    "('Jen','IT','CA',90000,34,20000),\n",
    "('Raj','IT','CA',93000,28,28000),\n",
    "('Pooja','IT','CA',95000,31,19000))\n",
    "columns = ('employee_name','department','state','salary','age','bonus')"
   ]
  },
  {
   "cell_type": "code",
   "execution_count": 0,
   "metadata": {
    "application/vnd.databricks.v1+cell": {
     "cellMetadata": {
      "byteLimit": 2048000,
      "rowLimit": 10000
     },
     "inputWidgets": {},
     "nuid": "1889476f-5b78-476a-9204-04dad4d2a3e1",
     "showTitle": false,
     "title": ""
    }
   },
   "outputs": [],
   "source": [
    "employeeDf = spark.createDataFrame(employeeData, columns)"
   ]
  },
  {
   "cell_type": "code",
   "execution_count": 0,
   "metadata": {
    "application/vnd.databricks.v1+cell": {
     "cellMetadata": {
      "byteLimit": 2048000,
      "rowLimit": 10000
     },
     "inputWidgets": {},
     "nuid": "832e2137-851f-4ea1-8e06-0fff878305be",
     "showTitle": false,
     "title": ""
    }
   },
   "outputs": [
    {
     "name": "stdout",
     "output_type": "stream",
     "text": [
      "+----------+-----------+\n",
      "|department|sum(salary)|\n",
      "+----------+-----------+\n",
      "|        HR|     176000|\n",
      "|     Sales|     180000|\n",
      "|        IT|     376000|\n",
      "+----------+-----------+\n",
      "\n"
     ]
    }
   ],
   "source": [
    "employeeDf.groupby(col('department')).agg(sum(col('salary'))).show()"
   ]
  },
  {
   "cell_type": "code",
   "execution_count": 0,
   "metadata": {
    "application/vnd.databricks.v1+cell": {
     "cellMetadata": {
      "byteLimit": 2048000,
      "rowLimit": 10000
     },
     "inputWidgets": {},
     "nuid": "513bc5dc-b01a-4fa4-8b51-51fbb7b8c5ab",
     "showTitle": false,
     "title": ""
    }
   },
   "outputs": [
    {
     "name": "stdout",
     "output_type": "stream",
     "text": [
      "+----------+---------+\n",
      "|department|total_sal|\n",
      "+----------+---------+\n",
      "|        HR|   176000|\n",
      "|     Sales|   180000|\n",
      "|        IT|   376000|\n",
      "+----------+---------+\n",
      "\n"
     ]
    }
   ],
   "source": [
    "employeeDf.groupby(col('department')).agg(sum(col('salary')).alias('total_sal')).orderBy('total_sal').show()"
   ]
  },
  {
   "cell_type": "code",
   "execution_count": 0,
   "metadata": {
    "application/vnd.databricks.v1+cell": {
     "cellMetadata": {
      "byteLimit": 2048000,
      "rowLimit": 10000
     },
     "inputWidgets": {},
     "nuid": "b290062d-3034-4bb3-90f5-6d9336d3cb3c",
     "showTitle": false,
     "title": ""
    }
   },
   "outputs": [
    {
     "name": "stdout",
     "output_type": "stream",
     "text": [
      "+----------+---------+\n",
      "|department|total_sal|\n",
      "+----------+---------+\n",
      "|        IT|   376000|\n",
      "|     Sales|   180000|\n",
      "|        HR|   176000|\n",
      "+----------+---------+\n",
      "\n"
     ]
    }
   ],
   "source": [
    "employeeDf.groupby(col('department')).agg(sum(col('salary')).alias('total_sal')).orderBy(col('total_sal').desc()).show()"
   ]
  },
  {
   "cell_type": "code",
   "execution_count": 0,
   "metadata": {
    "application/vnd.databricks.v1+cell": {
     "cellMetadata": {
      "byteLimit": 2048000,
      "rowLimit": 10000
     },
     "inputWidgets": {},
     "nuid": "d43aa914-770a-4c51-86cb-4b92cabd6104",
     "showTitle": false,
     "title": ""
    }
   },
   "outputs": [
    {
     "name": "stdout",
     "output_type": "stream",
     "text": [
      "+----------+-----+----------+\n",
      "|department|state|sum(bonus)|\n",
      "+----------+-----+----------+\n",
      "|        HR|   NY|     30000|\n",
      "|     Sales|   CA|     37000|\n",
      "|        IT|   NY|     14000|\n",
      "|        IT|   CA|     67000|\n",
      "+----------+-----+----------+\n",
      "\n"
     ]
    }
   ],
   "source": [
    "employeeDf.groupby(col('department'),col('state')).agg(sum(col('bonus'))).show()"
   ]
  },
  {
   "cell_type": "code",
   "execution_count": 0,
   "metadata": {
    "application/vnd.databricks.v1+cell": {
     "cellMetadata": {
      "byteLimit": 2048000,
      "rowLimit": 10000
     },
     "inputWidgets": {},
     "nuid": "2dca07a2-27a5-455d-b3db-27460c552061",
     "showTitle": false,
     "title": ""
    }
   },
   "outputs": [
    {
     "name": "stdout",
     "output_type": "stream",
     "text": [
      "+----------+--------------+-------------+\n",
      "|department|avarage_salary|maximum_bonus|\n",
      "+----------+--------------+-------------+\n",
      "|        HR|       88000.0|        20000|\n",
      "|     Sales|       90000.0|        22000|\n",
      "|        IT|       94000.0|        28000|\n",
      "+----------+--------------+-------------+\n",
      "\n"
     ]
    }
   ],
   "source": [
    "employeeDf.groupby(col('department')).agg(avg(col('salary')).alias('avarage_salary'),max(col('bonus')).alias('maximum_bonus')).show()"
   ]
  },
  {
   "cell_type": "code",
   "execution_count": 0,
   "metadata": {
    "application/vnd.databricks.v1+cell": {
     "cellMetadata": {},
     "inputWidgets": {},
     "nuid": "d8418f4c-f7f5-4502-9639-eabdaadec28c",
     "showTitle": false,
     "title": ""
    }
   },
   "outputs": [],
   "source": []
  }
 ],
 "metadata": {
  "application/vnd.databricks.v1+notebook": {
   "dashboards": [],
   "language": "python",
   "notebookMetadata": {
    "pythonIndentUnit": 4
   },
   "notebookName": "SMA Lab 13",
   "widgets": {}
  },
  "kernelspec": {
   "display_name": "Python 3 (ipykernel)",
   "language": "python",
   "name": "python3"
  },
  "language_info": {
   "codemirror_mode": {
    "name": "ipython",
    "version": 3
   },
   "file_extension": ".py",
   "mimetype": "text/x-python",
   "name": "python",
   "nbconvert_exporter": "python",
   "pygments_lexer": "ipython3",
   "version": "3.11.3"
  }
 },
 "nbformat": 4,
 "nbformat_minor": 1
}
