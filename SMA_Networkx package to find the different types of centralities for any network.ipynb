{
 "cells": [
  {
   "cell_type": "markdown",
   "id": "a394aff1",
   "metadata": {},
   "source": [
    "#### \n",
    "NAME  : RAHINI DEVI S\n",
    "    \n",
    "ROLLNO: 225229129"
   ]
  },
  {
   "cell_type": "markdown",
   "id": "2d5fa5b7",
   "metadata": {},
   "source": [
    "## SMA LAB ASSIGNMENT-2 \n",
    "\n",
    "(Use the networkx package to find the different types of centralities for any network)"
   ]
  },
  {
   "cell_type": "markdown",
   "id": "7f840d0b",
   "metadata": {},
   "source": [
    "#### Importing the necessary packages"
   ]
  },
  {
   "cell_type": "code",
   "execution_count": 1,
   "id": "b842b27d",
   "metadata": {},
   "outputs": [],
   "source": [
    "import networkx as nx\n",
    "import numpy as np"
   ]
  },
  {
   "cell_type": "code",
   "execution_count": 2,
   "id": "5c66d30e",
   "metadata": {},
   "outputs": [],
   "source": [
    "from IPython.display import SVG \n",
    "from sknetwork.visualization import svg_graph \n",
    "from sknetwork.data import Bunch \n",
    "from sknetwork.ranking import PageRank "
   ]
  },
  {
   "cell_type": "code",
   "execution_count": 3,
   "id": "0e8c36c4",
   "metadata": {},
   "outputs": [],
   "source": [
    "def draw_graph(G, show_names=False, node_size=1, font_size=10, edge_width=0.5): \n",
    "\n",
    "    adjacency = nx.to_scipy_sparse_matrix(G, nodelist=None, dtype=None, weight='weight', format='csr') \n",
    "\n",
    "    names = np.array(list(G.nodes())) \n",
    "\n",
    "    graph = Bunch() \n",
    "    graph.adjacency = adjacency \n",
    "    graph.names = np.array(names) \n",
    "\n",
    "    pagerank = PageRank() \n",
    "\n",
    "    scores = pagerank.fit_transform(adjacency) \n",
    "\n",
    "    if show_names: \n",
    "        \n",
    "        image = svg_graph(graph.adjacency, font_size=font_size, node_size=node_size, names=graph.names, width=700, height=500, scores=scores, edge_width=edge_width) \n",
    "\n",
    "    else: \n",
    "\n",
    "        image = svg_graph(graph.adjacency, node_size=node_size, width=700, height=500, scores = scores, edge_width=edge_width) \n",
    "\n",
    "    return SVG(image) "
   ]
  },
  {
   "cell_type": "markdown",
   "id": "c86976b1",
   "metadata": {},
   "source": [
    "### Krackhardt kite graph\n",
    "\n",
    "The Krackhardt kite is the simple graph on 10 nodes and 18 edges."
   ]
  },
  {
   "cell_type": "code",
   "execution_count": 4,
   "id": "5296a3e1",
   "metadata": {},
   "outputs": [],
   "source": [
    "G = nx.krackhardt_kite_graph()\n",
    "df = nx.to_pandas_edgelist(G)[['source', 'target']] # cut the weights, for visualization\n",
    "G = nx.from_pandas_edgelist(df)"
   ]
  },
  {
   "cell_type": "code",
   "execution_count": 5,
   "id": "41429737",
   "metadata": {},
   "outputs": [
    {
     "data": {
      "text/plain": [
       "<function networkx.generators.small.krackhardt_kite_graph(create_using=None)>"
      ]
     },
     "execution_count": 5,
     "metadata": {},
     "output_type": "execute_result"
    }
   ],
   "source": [
    "nx.krackhardt_kite_graph"
   ]
  },
  {
   "cell_type": "code",
   "execution_count": 6,
   "id": "29e92584",
   "metadata": {},
   "outputs": [
    {
     "name": "stderr",
     "output_type": "stream",
     "text": [
      "C:\\Users\\visit\\AppData\\Local\\Temp\\ipykernel_13792\\1794451103.py:3: DeprecationWarning: \n",
      "\n",
      "The scipy.sparse array containers will be used instead of matrices\n",
      "in Networkx 3.0. Use `to_scipy_sparse_array` instead.\n",
      "  adjacency = nx.to_scipy_sparse_matrix(G, nodelist=None, dtype=None, weight='weight', format='csr')\n"
     ]
    },
    {
     "data": {
      "image/svg+xml": [
       "<svg xmlns=\"http://www.w3.org/2000/svg\" width=\"740\" height=\"540\">\n",
       "<path stroke-width=\"0.5\" stroke=\"black\" d=\"M 720 286 684 102\"/>\n",
       "<path stroke-width=\"0.5\" stroke=\"black\" d=\"M 557 337 522 170\"/>\n",
       "<path stroke-width=\"0.5\" stroke=\"black\" d=\"M 557 337 369 334\"/>\n",
       "<path stroke-width=\"0.5\" stroke=\"black\" d=\"M 602 20 684 102\"/>\n",
       "<path stroke-width=\"0.5\" stroke=\"black\" d=\"M 602 20 637 213\"/>\n",
       "<path stroke-width=\"0.5\" stroke=\"black\" d=\"M 602 20 522 170\"/>\n",
       "<path stroke-width=\"0.5\" stroke=\"black\" d=\"M 522 170 684 102\"/>\n",
       "<path stroke-width=\"0.5\" stroke=\"black\" d=\"M 557 337 637 213\"/>\n",
       "<path stroke-width=\"0.5\" stroke=\"black\" d=\"M 522 170 637 213\"/>\n",
       "<path stroke-width=\"0.5\" stroke=\"black\" d=\"M 522 170 602 20\"/>\n",
       "<path stroke-width=\"0.5\" stroke=\"black\" d=\"M 522 170 369 334\"/>\n",
       "<path stroke-width=\"0.5\" stroke=\"black\" d=\"M 369 334 557 337\"/>\n",
       "<path stroke-width=\"0.5\" stroke=\"black\" d=\"M 369 334 522 170\"/>\n",
       "<path stroke-width=\"0.5\" stroke=\"black\" d=\"M 369 334 170 432\"/>\n",
       "<path stroke-width=\"0.5\" stroke=\"black\" d=\"M 170 432 369 334\"/>\n",
       "<path stroke-width=\"0.5\" stroke=\"black\" d=\"M 522 170 557 337\"/>\n",
       "<path stroke-width=\"0.5\" stroke=\"black\" d=\"M 557 337 681 414\"/>\n",
       "<path stroke-width=\"0.5\" stroke=\"black\" d=\"M 557 337 720 286\"/>\n",
       "<path stroke-width=\"0.5\" stroke=\"black\" d=\"M 637 213 522 170\"/>\n",
       "<path stroke-width=\"0.5\" stroke=\"black\" d=\"M 720 286 681 414\"/>\n",
       "<path stroke-width=\"0.5\" stroke=\"black\" d=\"M 720 286 637 213\"/>\n",
       "<path stroke-width=\"0.5\" stroke=\"black\" d=\"M 720 286 557 337\"/>\n",
       "<path stroke-width=\"0.5\" stroke=\"black\" d=\"M 684 102 720 286\"/>\n",
       "<path stroke-width=\"0.5\" stroke=\"black\" d=\"M 684 102 637 213\"/>\n",
       "<path stroke-width=\"0.5\" stroke=\"black\" d=\"M 684 102 602 20\"/>\n",
       "<path stroke-width=\"0.5\" stroke=\"black\" d=\"M 684 102 522 170\"/>\n",
       "<path stroke-width=\"0.5\" stroke=\"black\" d=\"M 681 414 720 286\"/>\n",
       "<path stroke-width=\"0.5\" stroke=\"black\" d=\"M 681 414 637 213\"/>\n",
       "<path stroke-width=\"0.5\" stroke=\"black\" d=\"M 681 414 557 337\"/>\n",
       "<path stroke-width=\"0.5\" stroke=\"black\" d=\"M 637 213 720 286\"/>\n",
       "<path stroke-width=\"0.5\" stroke=\"black\" d=\"M 637 213 684 102\"/>\n",
       "<path stroke-width=\"0.5\" stroke=\"black\" d=\"M 637 213 681 414\"/>\n",
       "<path stroke-width=\"0.5\" stroke=\"black\" d=\"M 637 213 557 337\"/>\n",
       "<path stroke-width=\"0.5\" stroke=\"black\" d=\"M 637 213 602 20\"/>\n",
       "<path stroke-width=\"0.5\" stroke=\"black\" d=\"M 170 432 20 520\"/>\n",
       "<path stroke-width=\"0.5\" stroke=\"black\" d=\"M 20 520 170 432\"/>\n",
       "<circle cx=\"720\" cy=\"286\" r=\"3.0\" style=\"fill:rgb(224, 218, 215);stroke:black;stroke-width:1.0\"/>\n",
       "<circle cx=\"684\" cy=\"102\" r=\"3.0\" style=\"fill:rgb(224, 218, 215);stroke:black;stroke-width:1.0\"/>\n",
       "<circle cx=\"681\" cy=\"414\" r=\"3.0\" style=\"fill:rgb(152, 185, 254);stroke:black;stroke-width:1.0\"/>\n",
       "<circle cx=\"637\" cy=\"213\" r=\"3.0\" style=\"fill:rgb(179, 3, 38);stroke:black;stroke-width:1.0\"/>\n",
       "<circle cx=\"557\" cy=\"337\" r=\"3.0\" style=\"fill:rgb(237, 132, 103);stroke:black;stroke-width:1.0\"/>\n",
       "<circle cx=\"602\" cy=\"20\" r=\"3.0\" style=\"fill:rgb(152, 185, 254);stroke:black;stroke-width:1.0\"/>\n",
       "<circle cx=\"522\" cy=\"170\" r=\"3.0\" style=\"fill:rgb(237, 132, 103);stroke:black;stroke-width:1.0\"/>\n",
       "<circle cx=\"369\" cy=\"334\" r=\"3.0\" style=\"fill:rgb(210, 218, 231);stroke:black;stroke-width:1.0\"/>\n",
       "<circle cx=\"170\" cy=\"432\" r=\"3.0\" style=\"fill:rgb(172, 200, 252);stroke:black;stroke-width:1.0\"/>\n",
       "<circle cx=\"20\" cy=\"520\" r=\"3.0\" style=\"fill:rgb(58, 76, 192);stroke:black;stroke-width:1.0\"/>\n",
       "</svg>"
      ],
      "text/plain": [
       "<IPython.core.display.SVG object>"
      ]
     },
     "execution_count": 6,
     "metadata": {},
     "output_type": "execute_result"
    }
   ],
   "source": [
    "# this is a network / graph\n",
    "\n",
    "draw_graph(G, node_size=3)"
   ]
  },
  {
   "cell_type": "code",
   "execution_count": 7,
   "id": "c3b2b9ba",
   "metadata": {},
   "outputs": [
    {
     "name": "stderr",
     "output_type": "stream",
     "text": [
      "C:\\Users\\visit\\AppData\\Local\\Temp\\ipykernel_13792\\1794451103.py:3: DeprecationWarning: \n",
      "\n",
      "The scipy.sparse array containers will be used instead of matrices\n",
      "in Networkx 3.0. Use `to_scipy_sparse_array` instead.\n",
      "  adjacency = nx.to_scipy_sparse_matrix(G, nodelist=None, dtype=None, weight='weight', format='csr')\n"
     ]
    },
    {
     "data": {
      "image/svg+xml": [
       "<svg xmlns=\"http://www.w3.org/2000/svg\" width=\"750.0\" height=\"540\">\n",
       "<path stroke-width=\"0.5\" stroke=\"gray\" d=\"M 245 520 69 459\"/>\n",
       "<path stroke-width=\"0.5\" stroke=\"gray\" d=\"M 364 409 210 355\"/>\n",
       "<path stroke-width=\"0.5\" stroke=\"gray\" d=\"M 364 409 425 262\"/>\n",
       "<path stroke-width=\"0.5\" stroke=\"gray\" d=\"M 20 383 69 459\"/>\n",
       "<path stroke-width=\"0.5\" stroke=\"gray\" d=\"M 20 383 211 447\"/>\n",
       "<path stroke-width=\"0.5\" stroke=\"gray\" d=\"M 20 383 210 355\"/>\n",
       "<path stroke-width=\"0.5\" stroke=\"gray\" d=\"M 210 355 69 459\"/>\n",
       "<path stroke-width=\"0.5\" stroke=\"gray\" d=\"M 364 409 211 447\"/>\n",
       "<path stroke-width=\"0.5\" stroke=\"gray\" d=\"M 210 355 211 447\"/>\n",
       "<path stroke-width=\"0.5\" stroke=\"gray\" d=\"M 210 355 20 383\"/>\n",
       "<path stroke-width=\"0.5\" stroke=\"gray\" d=\"M 210 355 425 262\"/>\n",
       "<path stroke-width=\"0.5\" stroke=\"gray\" d=\"M 425 262 364 409\"/>\n",
       "<path stroke-width=\"0.5\" stroke=\"gray\" d=\"M 425 262 210 355\"/>\n",
       "<path stroke-width=\"0.5\" stroke=\"gray\" d=\"M 425 262 593 127\"/>\n",
       "<path stroke-width=\"0.5\" stroke=\"gray\" d=\"M 593 127 425 262\"/>\n",
       "<path stroke-width=\"0.5\" stroke=\"gray\" d=\"M 210 355 364 409\"/>\n",
       "<path stroke-width=\"0.5\" stroke=\"gray\" d=\"M 364 409 391 514\"/>\n",
       "<path stroke-width=\"0.5\" stroke=\"gray\" d=\"M 364 409 245 520\"/>\n",
       "<path stroke-width=\"0.5\" stroke=\"gray\" d=\"M 211 447 210 355\"/>\n",
       "<path stroke-width=\"0.5\" stroke=\"gray\" d=\"M 245 520 391 514\"/>\n",
       "<path stroke-width=\"0.5\" stroke=\"gray\" d=\"M 245 520 211 447\"/>\n",
       "<path stroke-width=\"0.5\" stroke=\"gray\" d=\"M 245 520 364 409\"/>\n",
       "<path stroke-width=\"0.5\" stroke=\"gray\" d=\"M 69 459 245 520\"/>\n",
       "<path stroke-width=\"0.5\" stroke=\"gray\" d=\"M 69 459 211 447\"/>\n",
       "<path stroke-width=\"0.5\" stroke=\"gray\" d=\"M 69 459 20 383\"/>\n",
       "<path stroke-width=\"0.5\" stroke=\"gray\" d=\"M 69 459 210 355\"/>\n",
       "<path stroke-width=\"0.5\" stroke=\"gray\" d=\"M 391 514 245 520\"/>\n",
       "<path stroke-width=\"0.5\" stroke=\"gray\" d=\"M 391 514 211 447\"/>\n",
       "<path stroke-width=\"0.5\" stroke=\"gray\" d=\"M 391 514 364 409\"/>\n",
       "<path stroke-width=\"0.5\" stroke=\"gray\" d=\"M 211 447 245 520\"/>\n",
       "<path stroke-width=\"0.5\" stroke=\"gray\" d=\"M 211 447 69 459\"/>\n",
       "<path stroke-width=\"0.5\" stroke=\"gray\" d=\"M 211 447 391 514\"/>\n",
       "<path stroke-width=\"0.5\" stroke=\"gray\" d=\"M 211 447 364 409\"/>\n",
       "<path stroke-width=\"0.5\" stroke=\"gray\" d=\"M 211 447 20 383\"/>\n",
       "<path stroke-width=\"0.5\" stroke=\"gray\" d=\"M 593 127 720 20\"/>\n",
       "<path stroke-width=\"0.5\" stroke=\"gray\" d=\"M 720 20 593 127\"/>\n",
       "<circle cx=\"245\" cy=\"520\" r=\"3.0\" style=\"fill:rgb(224, 218, 215);stroke:black;stroke-width:1.0\"/>\n",
       "<circle cx=\"69\" cy=\"459\" r=\"3.0\" style=\"fill:rgb(224, 218, 215);stroke:black;stroke-width:1.0\"/>\n",
       "<circle cx=\"391\" cy=\"514\" r=\"3.0\" style=\"fill:rgb(152, 185, 254);stroke:black;stroke-width:1.0\"/>\n",
       "<circle cx=\"211\" cy=\"447\" r=\"3.0\" style=\"fill:rgb(179, 3, 38);stroke:black;stroke-width:1.0\"/>\n",
       "<circle cx=\"364\" cy=\"409\" r=\"3.0\" style=\"fill:rgb(237, 132, 103);stroke:black;stroke-width:1.0\"/>\n",
       "<circle cx=\"20\" cy=\"383\" r=\"3.0\" style=\"fill:rgb(152, 185, 254);stroke:black;stroke-width:1.0\"/>\n",
       "<circle cx=\"210\" cy=\"355\" r=\"3.0\" style=\"fill:rgb(237, 132, 103);stroke:black;stroke-width:1.0\"/>\n",
       "<circle cx=\"425\" cy=\"262\" r=\"3.0\" style=\"fill:rgb(210, 218, 231);stroke:black;stroke-width:1.0\"/>\n",
       "<circle cx=\"593\" cy=\"127\" r=\"3.0\" style=\"fill:rgb(172, 200, 252);stroke:black;stroke-width:1.0\"/>\n",
       "<circle cx=\"720\" cy=\"20\" r=\"3.0\" style=\"fill:rgb(58, 76, 192);stroke:black;stroke-width:1.0\"/>\n",
       "<text text-anchor=\"start\" x=\"251\" y=\"520\" font-size=\"10\">0</text><text text-anchor=\"start\" x=\"75\" y=\"459\" font-size=\"10\">1</text><text text-anchor=\"start\" x=\"397\" y=\"514\" font-size=\"10\">2</text><text text-anchor=\"start\" x=\"217\" y=\"447\" font-size=\"10\">3</text><text text-anchor=\"start\" x=\"370\" y=\"409\" font-size=\"10\">5</text><text text-anchor=\"start\" x=\"26\" y=\"383\" font-size=\"10\">4</text><text text-anchor=\"start\" x=\"216\" y=\"355\" font-size=\"10\">6</text><text text-anchor=\"start\" x=\"431\" y=\"262\" font-size=\"10\">7</text><text text-anchor=\"start\" x=\"599\" y=\"127\" font-size=\"10\">8</text><text text-anchor=\"start\" x=\"726\" y=\"20\" font-size=\"10\">9</text></svg>"
      ],
      "text/plain": [
       "<IPython.core.display.SVG object>"
      ]
     },
     "execution_count": 7,
     "metadata": {},
     "output_type": "execute_result"
    }
   ],
   "source": [
    "# with labels\n",
    "\n",
    "draw_graph(G, node_size=3, show_names=True)"
   ]
  },
  {
   "cell_type": "code",
   "execution_count": 8,
   "id": "5d1df595",
   "metadata": {},
   "outputs": [
    {
     "data": {
      "text/plain": [
       "[0, 1, 2, 3, 4, 5, 6, 7, 8, 9]"
      ]
     },
     "execution_count": 8,
     "metadata": {},
     "output_type": "execute_result"
    }
   ],
   "source": [
    "# these are ten of the nodes\n",
    "\n",
    "sorted(G.nodes)[0:10]"
   ]
  },
  {
   "cell_type": "markdown",
   "id": "a36e0e56",
   "metadata": {},
   "source": [
    "##### 1.Degree Centrality\n",
    "\n",
    "Degree Centrality: Importance based on the number of degrees (edges)"
   ]
  },
  {
   "cell_type": "code",
   "execution_count": 9,
   "id": "7c88e07e",
   "metadata": {},
   "outputs": [],
   "source": [
    "import pandas as pd"
   ]
  },
  {
   "cell_type": "code",
   "execution_count": 10,
   "id": "602b267e",
   "metadata": {},
   "outputs": [],
   "source": [
    "deg_cent = nx.degree_centrality(G)"
   ]
  },
  {
   "cell_type": "code",
   "execution_count": 11,
   "id": "eeaa40b1",
   "metadata": {},
   "outputs": [],
   "source": [
    "deg_cent_df = pd.DataFrame().from_dict(deg_cent, orient='index')\n",
    "deg_cent_df.columns = ['degree_centrality']\n",
    "deg_cent_df.sort_values('degree_centrality', ascending=False, inplace=True)"
   ]
  },
  {
   "cell_type": "code",
   "execution_count": 12,
   "id": "5384b7e7",
   "metadata": {},
   "outputs": [
    {
     "data": {
      "text/html": [
       "<div>\n",
       "<style scoped>\n",
       "    .dataframe tbody tr th:only-of-type {\n",
       "        vertical-align: middle;\n",
       "    }\n",
       "\n",
       "    .dataframe tbody tr th {\n",
       "        vertical-align: top;\n",
       "    }\n",
       "\n",
       "    .dataframe thead th {\n",
       "        text-align: right;\n",
       "    }\n",
       "</style>\n",
       "<table border=\"1\" class=\"dataframe\">\n",
       "  <thead>\n",
       "    <tr style=\"text-align: right;\">\n",
       "      <th></th>\n",
       "      <th>degree_centrality</th>\n",
       "    </tr>\n",
       "  </thead>\n",
       "  <tbody>\n",
       "    <tr>\n",
       "      <th>3</th>\n",
       "      <td>0.666667</td>\n",
       "    </tr>\n",
       "    <tr>\n",
       "      <th>5</th>\n",
       "      <td>0.555556</td>\n",
       "    </tr>\n",
       "    <tr>\n",
       "      <th>6</th>\n",
       "      <td>0.555556</td>\n",
       "    </tr>\n",
       "    <tr>\n",
       "      <th>0</th>\n",
       "      <td>0.444444</td>\n",
       "    </tr>\n",
       "    <tr>\n",
       "      <th>1</th>\n",
       "      <td>0.444444</td>\n",
       "    </tr>\n",
       "    <tr>\n",
       "      <th>2</th>\n",
       "      <td>0.333333</td>\n",
       "    </tr>\n",
       "    <tr>\n",
       "      <th>4</th>\n",
       "      <td>0.333333</td>\n",
       "    </tr>\n",
       "    <tr>\n",
       "      <th>7</th>\n",
       "      <td>0.333333</td>\n",
       "    </tr>\n",
       "    <tr>\n",
       "      <th>8</th>\n",
       "      <td>0.222222</td>\n",
       "    </tr>\n",
       "    <tr>\n",
       "      <th>9</th>\n",
       "      <td>0.111111</td>\n",
       "    </tr>\n",
       "  </tbody>\n",
       "</table>\n",
       "</div>"
      ],
      "text/plain": [
       "   degree_centrality\n",
       "3           0.666667\n",
       "5           0.555556\n",
       "6           0.555556\n",
       "0           0.444444\n",
       "1           0.444444\n",
       "2           0.333333\n",
       "4           0.333333\n",
       "7           0.333333\n",
       "8           0.222222\n",
       "9           0.111111"
      ]
     },
     "execution_count": 12,
     "metadata": {},
     "output_type": "execute_result"
    }
   ],
   "source": [
    "deg_cent_df.head(10)"
   ]
  },
  {
   "cell_type": "code",
   "execution_count": 13,
   "id": "aa40ee6d",
   "metadata": {
    "scrolled": false
   },
   "outputs": [
    {
     "data": {
      "image/png": "[encoded data removed]",
      "text/plain": [
       "<Figure size 1000x600 with 1 Axes>"
      ]
     },
     "metadata": {},
     "output_type": "display_data"
    }
   ],
   "source": [
    "title = 'Important Characters by Degree Centrality'\n",
    "\n",
    "deg_cent_df.head(10).plot.barh(figsize=(10,6), title=title).invert_yaxis()"
   ]
  },
  {
   "cell_type": "markdown",
   "id": "e8913cdd",
   "metadata": {},
   "source": [
    "##### 2.Betweenness Centrality\n",
    "\n",
    "Betweenness Centrality: Importance based on whether a node sits between other nodes; Information flows through them. Can also be gatekeepers. They have power."
   ]
  },
  {
   "cell_type": "code",
   "execution_count": 14,
   "id": "0a8a61c3",
   "metadata": {
    "scrolled": true
   },
   "outputs": [],
   "source": [
    "betw_cent = nx.betweenness_centrality(G)"
   ]
  },
  {
   "cell_type": "code",
   "execution_count": 15,
   "id": "09c6cda2",
   "metadata": {},
   "outputs": [],
   "source": [
    "betw_cent_df = pd.DataFrame().from_dict(betw_cent, orient='index')\n",
    "betw_cent_df.columns = ['betweenness_centrality']\n",
    "betw_cent_df.sort_values('betweenness_centrality', ascending=False, inplace=True)"
   ]
  },
  {
   "cell_type": "code",
   "execution_count": 16,
   "id": "06370ff1",
   "metadata": {},
   "outputs": [
    {
     "data": {
      "text/html": [
       "<div>\n",
       "<style scoped>\n",
       "    .dataframe tbody tr th:only-of-type {\n",
       "        vertical-align: middle;\n",
       "    }\n",
       "\n",
       "    .dataframe tbody tr th {\n",
       "        vertical-align: top;\n",
       "    }\n",
       "\n",
       "    .dataframe thead th {\n",
       "        text-align: right;\n",
       "    }\n",
       "</style>\n",
       "<table border=\"1\" class=\"dataframe\">\n",
       "  <thead>\n",
       "    <tr style=\"text-align: right;\">\n",
       "      <th></th>\n",
       "      <th>betweenness_centrality</th>\n",
       "    </tr>\n",
       "  </thead>\n",
       "  <tbody>\n",
       "    <tr>\n",
       "      <th>7</th>\n",
       "      <td>0.388889</td>\n",
       "    </tr>\n",
       "    <tr>\n",
       "      <th>5</th>\n",
       "      <td>0.231481</td>\n",
       "    </tr>\n",
       "    <tr>\n",
       "      <th>6</th>\n",
       "      <td>0.231481</td>\n",
       "    </tr>\n",
       "    <tr>\n",
       "      <th>8</th>\n",
       "      <td>0.222222</td>\n",
       "    </tr>\n",
       "    <tr>\n",
       "      <th>3</th>\n",
       "      <td>0.101852</td>\n",
       "    </tr>\n",
       "    <tr>\n",
       "      <th>0</th>\n",
       "      <td>0.023148</td>\n",
       "    </tr>\n",
       "    <tr>\n",
       "      <th>1</th>\n",
       "      <td>0.023148</td>\n",
       "    </tr>\n",
       "    <tr>\n",
       "      <th>2</th>\n",
       "      <td>0.000000</td>\n",
       "    </tr>\n",
       "    <tr>\n",
       "      <th>4</th>\n",
       "      <td>0.000000</td>\n",
       "    </tr>\n",
       "    <tr>\n",
       "      <th>9</th>\n",
       "      <td>0.000000</td>\n",
       "    </tr>\n",
       "  </tbody>\n",
       "</table>\n",
       "</div>"
      ],
      "text/plain": [
       "   betweenness_centrality\n",
       "7                0.388889\n",
       "5                0.231481\n",
       "6                0.231481\n",
       "8                0.222222\n",
       "3                0.101852\n",
       "0                0.023148\n",
       "1                0.023148\n",
       "2                0.000000\n",
       "4                0.000000\n",
       "9                0.000000"
      ]
     },
     "execution_count": 16,
     "metadata": {},
     "output_type": "execute_result"
    }
   ],
   "source": [
    "betw_cent_df.head(10)"
   ]
  },
  {
   "cell_type": "code",
   "execution_count": 17,
   "id": "8e2df173",
   "metadata": {},
   "outputs": [
    {
     "data": {
      "image/png": "[encoded data removed]",
      "text/plain": [
       "<Figure size 1000x600 with 1 Axes>"
      ]
     },
     "metadata": {},
     "output_type": "display_data"
    }
   ],
   "source": [
    "title = 'Important Characters by Betweenness Centrality'\n",
    "\n",
    "betw_cent_df.head(10).plot.barh(figsize=(10,6), title=title).invert_yaxis()"
   ]
  },
  {
   "cell_type": "markdown",
   "id": "a2b7e2b5",
   "metadata": {},
   "source": [
    "##### 3.Closeness Centrality\n",
    "\n",
    "Closeness Centrality: Importance based on a nodes closeness to other nodes. Has to do with number of steps away."
   ]
  },
  {
   "cell_type": "code",
   "execution_count": 18,
   "id": "b17385fa",
   "metadata": {},
   "outputs": [],
   "source": [
    "close_cent = nx.closeness_centrality(G)"
   ]
  },
  {
   "cell_type": "code",
   "execution_count": 19,
   "id": "726ccc65",
   "metadata": {},
   "outputs": [],
   "source": [
    "close_cent_df = pd.DataFrame().from_dict(close_cent, orient='index')\n",
    "close_cent_df.columns = ['closeness_centrality']\n",
    "close_cent_df.sort_values('closeness_centrality', ascending=False, inplace=True)"
   ]
  },
  {
   "cell_type": "code",
   "execution_count": 20,
   "id": "31338fe3",
   "metadata": {},
   "outputs": [
    {
     "data": {
      "text/html": [
       "<div>\n",
       "<style scoped>\n",
       "    .dataframe tbody tr th:only-of-type {\n",
       "        vertical-align: middle;\n",
       "    }\n",
       "\n",
       "    .dataframe tbody tr th {\n",
       "        vertical-align: top;\n",
       "    }\n",
       "\n",
       "    .dataframe thead th {\n",
       "        text-align: right;\n",
       "    }\n",
       "</style>\n",
       "<table border=\"1\" class=\"dataframe\">\n",
       "  <thead>\n",
       "    <tr style=\"text-align: right;\">\n",
       "      <th></th>\n",
       "      <th>closeness_centrality</th>\n",
       "    </tr>\n",
       "  </thead>\n",
       "  <tbody>\n",
       "    <tr>\n",
       "      <th>5</th>\n",
       "      <td>0.642857</td>\n",
       "    </tr>\n",
       "    <tr>\n",
       "      <th>6</th>\n",
       "      <td>0.642857</td>\n",
       "    </tr>\n",
       "    <tr>\n",
       "      <th>3</th>\n",
       "      <td>0.600000</td>\n",
       "    </tr>\n",
       "    <tr>\n",
       "      <th>7</th>\n",
       "      <td>0.600000</td>\n",
       "    </tr>\n",
       "    <tr>\n",
       "      <th>0</th>\n",
       "      <td>0.529412</td>\n",
       "    </tr>\n",
       "    <tr>\n",
       "      <th>1</th>\n",
       "      <td>0.529412</td>\n",
       "    </tr>\n",
       "    <tr>\n",
       "      <th>2</th>\n",
       "      <td>0.500000</td>\n",
       "    </tr>\n",
       "    <tr>\n",
       "      <th>4</th>\n",
       "      <td>0.500000</td>\n",
       "    </tr>\n",
       "    <tr>\n",
       "      <th>8</th>\n",
       "      <td>0.428571</td>\n",
       "    </tr>\n",
       "    <tr>\n",
       "      <th>9</th>\n",
       "      <td>0.310345</td>\n",
       "    </tr>\n",
       "  </tbody>\n",
       "</table>\n",
       "</div>"
      ],
      "text/plain": [
       "   closeness_centrality\n",
       "5              0.642857\n",
       "6              0.642857\n",
       "3              0.600000\n",
       "7              0.600000\n",
       "0              0.529412\n",
       "1              0.529412\n",
       "2              0.500000\n",
       "4              0.500000\n",
       "8              0.428571\n",
       "9              0.310345"
      ]
     },
     "execution_count": 20,
     "metadata": {},
     "output_type": "execute_result"
    }
   ],
   "source": [
    "close_cent_df.head(10)"
   ]
  },
  {
   "cell_type": "code",
   "execution_count": 21,
   "id": "46ed45ad",
   "metadata": {},
   "outputs": [
    {
     "data": {
      "image/png": "[encoded data removed]",
      "text/plain": [
       "<Figure size 1000x600 with 1 Axes>"
      ]
     },
     "metadata": {},
     "output_type": "display_data"
    }
   ],
   "source": [
    "title = 'Important Characters by Closeness Centrality'\n",
    "\n",
    "close_cent_df.head(10).plot.barh(figsize=(10,6), title=title).invert_yaxis()"
   ]
  },
  {
   "cell_type": "markdown",
   "id": "da84932d",
   "metadata": {},
   "source": [
    "##### 4.PageRank\n",
    "\n",
    "PageRank : Importance based on number of inbound and outbound edges. Inbound is more important than outbound."
   ]
  },
  {
   "cell_type": "code",
   "execution_count": 22,
   "id": "cf434423",
   "metadata": {
    "scrolled": false
   },
   "outputs": [],
   "source": [
    "page_rank = nx.pagerank(G)"
   ]
  },
  {
   "cell_type": "code",
   "execution_count": 23,
   "id": "77e7f1fa",
   "metadata": {},
   "outputs": [],
   "source": [
    "pr_df = pd.DataFrame().from_dict(page_rank, orient='index')\n",
    "pr_df.columns = ['page_rank']\n",
    "pr_df.sort_values('page_rank', ascending=False, inplace=True)"
   ]
  },
  {
   "cell_type": "code",
   "execution_count": 24,
   "id": "212c71b0",
   "metadata": {},
   "outputs": [
    {
     "data": {
      "text/html": [
       "<div>\n",
       "<style scoped>\n",
       "    .dataframe tbody tr th:only-of-type {\n",
       "        vertical-align: middle;\n",
       "    }\n",
       "\n",
       "    .dataframe tbody tr th {\n",
       "        vertical-align: top;\n",
       "    }\n",
       "\n",
       "    .dataframe thead th {\n",
       "        text-align: right;\n",
       "    }\n",
       "</style>\n",
       "<table border=\"1\" class=\"dataframe\">\n",
       "  <thead>\n",
       "    <tr style=\"text-align: right;\">\n",
       "      <th></th>\n",
       "      <th>page_rank</th>\n",
       "    </tr>\n",
       "  </thead>\n",
       "  <tbody>\n",
       "    <tr>\n",
       "      <th>3</th>\n",
       "      <td>0.147148</td>\n",
       "    </tr>\n",
       "    <tr>\n",
       "      <th>5</th>\n",
       "      <td>0.128907</td>\n",
       "    </tr>\n",
       "    <tr>\n",
       "      <th>6</th>\n",
       "      <td>0.128907</td>\n",
       "    </tr>\n",
       "    <tr>\n",
       "      <th>0</th>\n",
       "      <td>0.101920</td>\n",
       "    </tr>\n",
       "    <tr>\n",
       "      <th>1</th>\n",
       "      <td>0.101920</td>\n",
       "    </tr>\n",
       "    <tr>\n",
       "      <th>7</th>\n",
       "      <td>0.095248</td>\n",
       "    </tr>\n",
       "    <tr>\n",
       "      <th>8</th>\n",
       "      <td>0.085696</td>\n",
       "    </tr>\n",
       "    <tr>\n",
       "      <th>2</th>\n",
       "      <td>0.079418</td>\n",
       "    </tr>\n",
       "    <tr>\n",
       "      <th>4</th>\n",
       "      <td>0.079418</td>\n",
       "    </tr>\n",
       "    <tr>\n",
       "      <th>9</th>\n",
       "      <td>0.051420</td>\n",
       "    </tr>\n",
       "  </tbody>\n",
       "</table>\n",
       "</div>"
      ],
      "text/plain": [
       "   page_rank\n",
       "3   0.147148\n",
       "5   0.128907\n",
       "6   0.128907\n",
       "0   0.101920\n",
       "1   0.101920\n",
       "7   0.095248\n",
       "8   0.085696\n",
       "2   0.079418\n",
       "4   0.079418\n",
       "9   0.051420"
      ]
     },
     "execution_count": 24,
     "metadata": {},
     "output_type": "execute_result"
    }
   ],
   "source": [
    "pr_df.head(10)"
   ]
  },
  {
   "cell_type": "code",
   "execution_count": 25,
   "id": "8d668343",
   "metadata": {
    "scrolled": false
   },
   "outputs": [
    {
     "data": {
      "image/png": "[encoded data removed]",
      "text/plain": [
       "<Figure size 1000x600 with 1 Axes>"
      ]
     },
     "metadata": {},
     "output_type": "display_data"
    }
   ],
   "source": [
    "title = 'Important Characters by PageRank'\n",
    "\n",
    "pr_df.head(10).plot.barh(figsize=(10,6), title=title).invert_yaxis()"
   ]
  },
  {
   "cell_type": "markdown",
   "id": "b938b0b7",
   "metadata": {},
   "source": [
    "## Tutte Graph\n",
    "\n",
    "It is a graph with 46 vertices and 69 edges.\n",
    "It is important because it is an exception to Tait’s conjecture which states that every 3-regular polyhedron has a Hamiltonian cycle."
   ]
  },
  {
   "cell_type": "code",
   "execution_count": 26,
   "id": "af4d4613",
   "metadata": {},
   "outputs": [],
   "source": [
    "G = nx.tutte_graph()"
   ]
  },
  {
   "cell_type": "code",
   "execution_count": 27,
   "id": "82e55863",
   "metadata": {},
   "outputs": [],
   "source": [
    "df = nx.to_pandas_edgelist(G)[['source', 'target']] # cut the weights, for visualization\n",
    "G = nx.from_pandas_edgelist(df)"
   ]
  },
  {
   "cell_type": "markdown",
   "id": "18850c07",
   "metadata": {},
   "source": [
    "##### 1. Degre Centality"
   ]
  },
  {
   "cell_type": "code",
   "execution_count": 28,
   "id": "26b88233",
   "metadata": {},
   "outputs": [],
   "source": [
    "deg_cent = nx.degree_centrality(G)"
   ]
  },
  {
   "cell_type": "code",
   "execution_count": 29,
   "id": "b1636763",
   "metadata": {},
   "outputs": [],
   "source": [
    "deg_cent_df = pd.DataFrame().from_dict(deg_cent, orient='index')\n",
    "deg_cent_df.columns = ['degree_centrality']\n",
    "deg_cent_df.sort_values('degree_centrality', ascending=False, inplace=True)"
   ]
  },
  {
   "cell_type": "code",
   "execution_count": 30,
   "id": "293cab8f",
   "metadata": {},
   "outputs": [
    {
     "data": {
      "text/html": [
       "<div>\n",
       "<style scoped>\n",
       "    .dataframe tbody tr th:only-of-type {\n",
       "        vertical-align: middle;\n",
       "    }\n",
       "\n",
       "    .dataframe tbody tr th {\n",
       "        vertical-align: top;\n",
       "    }\n",
       "\n",
       "    .dataframe thead th {\n",
       "        text-align: right;\n",
       "    }\n",
       "</style>\n",
       "<table border=\"1\" class=\"dataframe\">\n",
       "  <thead>\n",
       "    <tr style=\"text-align: right;\">\n",
       "      <th></th>\n",
       "      <th>degree_centrality</th>\n",
       "    </tr>\n",
       "  </thead>\n",
       "  <tbody>\n",
       "    <tr>\n",
       "      <th>0</th>\n",
       "      <td>0.066667</td>\n",
       "    </tr>\n",
       "    <tr>\n",
       "      <th>21</th>\n",
       "      <td>0.066667</td>\n",
       "    </tr>\n",
       "    <tr>\n",
       "      <th>15</th>\n",
       "      <td>0.066667</td>\n",
       "    </tr>\n",
       "    <tr>\n",
       "      <th>34</th>\n",
       "      <td>0.066667</td>\n",
       "    </tr>\n",
       "    <tr>\n",
       "      <th>16</th>\n",
       "      <td>0.066667</td>\n",
       "    </tr>\n",
       "    <tr>\n",
       "      <th>22</th>\n",
       "      <td>0.066667</td>\n",
       "    </tr>\n",
       "    <tr>\n",
       "      <th>17</th>\n",
       "      <td>0.066667</td>\n",
       "    </tr>\n",
       "    <tr>\n",
       "      <th>44</th>\n",
       "      <td>0.066667</td>\n",
       "    </tr>\n",
       "    <tr>\n",
       "      <th>43</th>\n",
       "      <td>0.066667</td>\n",
       "    </tr>\n",
       "    <tr>\n",
       "      <th>45</th>\n",
       "      <td>0.066667</td>\n",
       "    </tr>\n",
       "  </tbody>\n",
       "</table>\n",
       "</div>"
      ],
      "text/plain": [
       "    degree_centrality\n",
       "0            0.066667\n",
       "21           0.066667\n",
       "15           0.066667\n",
       "34           0.066667\n",
       "16           0.066667\n",
       "22           0.066667\n",
       "17           0.066667\n",
       "44           0.066667\n",
       "43           0.066667\n",
       "45           0.066667"
      ]
     },
     "execution_count": 30,
     "metadata": {},
     "output_type": "execute_result"
    }
   ],
   "source": [
    "deg_cent_df.head(10)"
   ]
  },
  {
   "cell_type": "code",
   "execution_count": 31,
   "id": "0790e536",
   "metadata": {},
   "outputs": [
    {
     "data": {
      "image/png": "[encoded data removed]",
      "text/plain": [
       "<Figure size 1000x600 with 1 Axes>"
      ]
     },
     "metadata": {},
     "output_type": "display_data"
    }
   ],
   "source": [
    "title = 'Important Characters by Degree Centrality'\n",
    "\n",
    "deg_cent_df.head(10).plot.barh(figsize=(10,6), title=title).invert_yaxis()"
   ]
  },
  {
   "cell_type": "markdown",
   "id": "9b7a3128",
   "metadata": {},
   "source": [
    "##### 2. Between Centrality"
   ]
  },
  {
   "cell_type": "code",
   "execution_count": 32,
   "id": "17f0c88a",
   "metadata": {},
   "outputs": [],
   "source": [
    "betw_cent = nx.betweenness_centrality(G)"
   ]
  },
  {
   "cell_type": "code",
   "execution_count": 33,
   "id": "fd9f853a",
   "metadata": {},
   "outputs": [],
   "source": [
    "betw_cent_df = pd.DataFrame().from_dict(betw_cent, orient='index')\n",
    "betw_cent_df.columns = ['betweenness_centrality']\n",
    "betw_cent_df.sort_values('betweenness_centrality', ascending=False, inplace=True)"
   ]
  },
  {
   "cell_type": "code",
   "execution_count": 34,
   "id": "eea7f8f6",
   "metadata": {},
   "outputs": [
    {
     "data": {
      "text/html": [
       "<div>\n",
       "<style scoped>\n",
       "    .dataframe tbody tr th:only-of-type {\n",
       "        vertical-align: middle;\n",
       "    }\n",
       "\n",
       "    .dataframe tbody tr th {\n",
       "        vertical-align: top;\n",
       "    }\n",
       "\n",
       "    .dataframe thead th {\n",
       "        text-align: right;\n",
       "    }\n",
       "</style>\n",
       "<table border=\"1\" class=\"dataframe\">\n",
       "  <thead>\n",
       "    <tr style=\"text-align: right;\">\n",
       "      <th></th>\n",
       "      <th>betweenness_centrality</th>\n",
       "    </tr>\n",
       "  </thead>\n",
       "  <tbody>\n",
       "    <tr>\n",
       "      <th>0</th>\n",
       "      <td>0.232540</td>\n",
       "    </tr>\n",
       "    <tr>\n",
       "      <th>15</th>\n",
       "      <td>0.158514</td>\n",
       "    </tr>\n",
       "    <tr>\n",
       "      <th>7</th>\n",
       "      <td>0.158514</td>\n",
       "    </tr>\n",
       "    <tr>\n",
       "      <th>23</th>\n",
       "      <td>0.158514</td>\n",
       "    </tr>\n",
       "    <tr>\n",
       "      <th>13</th>\n",
       "      <td>0.157588</td>\n",
       "    </tr>\n",
       "    <tr>\n",
       "      <th>21</th>\n",
       "      <td>0.157588</td>\n",
       "    </tr>\n",
       "    <tr>\n",
       "      <th>6</th>\n",
       "      <td>0.157588</td>\n",
       "    </tr>\n",
       "    <tr>\n",
       "      <th>3</th>\n",
       "      <td>0.148040</td>\n",
       "    </tr>\n",
       "    <tr>\n",
       "      <th>2</th>\n",
       "      <td>0.148040</td>\n",
       "    </tr>\n",
       "    <tr>\n",
       "      <th>1</th>\n",
       "      <td>0.148040</td>\n",
       "    </tr>\n",
       "  </tbody>\n",
       "</table>\n",
       "</div>"
      ],
      "text/plain": [
       "    betweenness_centrality\n",
       "0                 0.232540\n",
       "15                0.158514\n",
       "7                 0.158514\n",
       "23                0.158514\n",
       "13                0.157588\n",
       "21                0.157588\n",
       "6                 0.157588\n",
       "3                 0.148040\n",
       "2                 0.148040\n",
       "1                 0.148040"
      ]
     },
     "execution_count": 34,
     "metadata": {},
     "output_type": "execute_result"
    }
   ],
   "source": [
    "betw_cent_df.head(10)"
   ]
  },
  {
   "cell_type": "code",
   "execution_count": 35,
   "id": "2ea8bfb5",
   "metadata": {},
   "outputs": [
    {
     "data": {
      "image/png": "[encoded data removed]",
      "text/plain": [
       "<Figure size 1000x600 with 1 Axes>"
      ]
     },
     "metadata": {},
     "output_type": "display_data"
    }
   ],
   "source": [
    "title = 'Important Characters by Betweenness Centrality'\n",
    "\n",
    "betw_cent_df.head(10).plot.barh(figsize=(10,6), title=title).invert_yaxis()"
   ]
  },
  {
   "cell_type": "markdown",
   "id": "742bd8e4",
   "metadata": {},
   "source": [
    "##### 3. Closeness Cnetrality"
   ]
  },
  {
   "cell_type": "code",
   "execution_count": 36,
   "id": "107a6aef",
   "metadata": {},
   "outputs": [],
   "source": [
    "close_cent = nx.closeness_centrality(G)"
   ]
  },
  {
   "cell_type": "code",
   "execution_count": 37,
   "id": "3d834977",
   "metadata": {},
   "outputs": [],
   "source": [
    "close_cent_df = pd.DataFrame().from_dict(close_cent, orient='index')\n",
    "close_cent_df.columns = ['closeness_centrality']\n",
    "close_cent_df.sort_values('closeness_centrality', ascending=False, inplace=True)"
   ]
  },
  {
   "cell_type": "code",
   "execution_count": 38,
   "id": "2a298822",
   "metadata": {},
   "outputs": [
    {
     "data": {
      "text/html": [
       "<div>\n",
       "<style scoped>\n",
       "    .dataframe tbody tr th:only-of-type {\n",
       "        vertical-align: middle;\n",
       "    }\n",
       "\n",
       "    .dataframe tbody tr th {\n",
       "        vertical-align: top;\n",
       "    }\n",
       "\n",
       "    .dataframe thead th {\n",
       "        text-align: right;\n",
       "    }\n",
       "</style>\n",
       "<table border=\"1\" class=\"dataframe\">\n",
       "  <thead>\n",
       "    <tr style=\"text-align: right;\">\n",
       "      <th></th>\n",
       "      <th>closeness_centrality</th>\n",
       "    </tr>\n",
       "  </thead>\n",
       "  <tbody>\n",
       "    <tr>\n",
       "      <th>0</th>\n",
       "      <td>0.277778</td>\n",
       "    </tr>\n",
       "    <tr>\n",
       "      <th>6</th>\n",
       "      <td>0.263158</td>\n",
       "    </tr>\n",
       "    <tr>\n",
       "      <th>21</th>\n",
       "      <td>0.263158</td>\n",
       "    </tr>\n",
       "    <tr>\n",
       "      <th>13</th>\n",
       "      <td>0.263158</td>\n",
       "    </tr>\n",
       "    <tr>\n",
       "      <th>15</th>\n",
       "      <td>0.258621</td>\n",
       "    </tr>\n",
       "    <tr>\n",
       "      <th>23</th>\n",
       "      <td>0.258621</td>\n",
       "    </tr>\n",
       "    <tr>\n",
       "      <th>7</th>\n",
       "      <td>0.258621</td>\n",
       "    </tr>\n",
       "    <tr>\n",
       "      <th>14</th>\n",
       "      <td>0.257143</td>\n",
       "    </tr>\n",
       "    <tr>\n",
       "      <th>2</th>\n",
       "      <td>0.257143</td>\n",
       "    </tr>\n",
       "    <tr>\n",
       "      <th>22</th>\n",
       "      <td>0.257143</td>\n",
       "    </tr>\n",
       "  </tbody>\n",
       "</table>\n",
       "</div>"
      ],
      "text/plain": [
       "    closeness_centrality\n",
       "0               0.277778\n",
       "6               0.263158\n",
       "21              0.263158\n",
       "13              0.263158\n",
       "15              0.258621\n",
       "23              0.258621\n",
       "7               0.258621\n",
       "14              0.257143\n",
       "2               0.257143\n",
       "22              0.257143"
      ]
     },
     "execution_count": 38,
     "metadata": {},
     "output_type": "execute_result"
    }
   ],
   "source": [
    "close_cent_df.head(10)"
   ]
  },
  {
   "cell_type": "code",
   "execution_count": 39,
   "id": "8a78bea3",
   "metadata": {},
   "outputs": [],
   "source": [
    "df = nx.to_pandas_edgelist(G)[['source', 'target']] # cut the weights, for visualization\n",
    "G = nx.from_pandas_edgelist(df)"
   ]
  },
  {
   "cell_type": "markdown",
   "id": "a3dd6d46",
   "metadata": {},
   "source": [
    "##### 4. PageRank"
   ]
  },
  {
   "cell_type": "code",
   "execution_count": 40,
   "id": "da320c58",
   "metadata": {},
   "outputs": [],
   "source": [
    "page_rank = nx.pagerank(G)"
   ]
  },
  {
   "cell_type": "code",
   "execution_count": 41,
   "id": "6d4c162e",
   "metadata": {},
   "outputs": [],
   "source": [
    "pr_df = pd.DataFrame().from_dict(page_rank, orient='index')\n",
    "pr_df.columns = ['page_rank']\n",
    "pr_df.sort_values('page_rank', ascending=False, inplace=True)"
   ]
  },
  {
   "cell_type": "code",
   "execution_count": 42,
   "id": "810fb669",
   "metadata": {},
   "outputs": [
    {
     "data": {
      "text/html": [
       "<div>\n",
       "<style scoped>\n",
       "    .dataframe tbody tr th:only-of-type {\n",
       "        vertical-align: middle;\n",
       "    }\n",
       "\n",
       "    .dataframe tbody tr th {\n",
       "        vertical-align: top;\n",
       "    }\n",
       "\n",
       "    .dataframe thead th {\n",
       "        text-align: right;\n",
       "    }\n",
       "</style>\n",
       "<table border=\"1\" class=\"dataframe\">\n",
       "  <thead>\n",
       "    <tr style=\"text-align: right;\">\n",
       "      <th></th>\n",
       "      <th>page_rank</th>\n",
       "    </tr>\n",
       "  </thead>\n",
       "  <tbody>\n",
       "    <tr>\n",
       "      <th>0</th>\n",
       "      <td>0.021739</td>\n",
       "    </tr>\n",
       "    <tr>\n",
       "      <th>15</th>\n",
       "      <td>0.021739</td>\n",
       "    </tr>\n",
       "    <tr>\n",
       "      <th>8</th>\n",
       "      <td>0.021739</td>\n",
       "    </tr>\n",
       "    <tr>\n",
       "      <th>14</th>\n",
       "      <td>0.021739</td>\n",
       "    </tr>\n",
       "    <tr>\n",
       "      <th>23</th>\n",
       "      <td>0.021739</td>\n",
       "    </tr>\n",
       "    <tr>\n",
       "      <th>38</th>\n",
       "      <td>0.021739</td>\n",
       "    </tr>\n",
       "    <tr>\n",
       "      <th>13</th>\n",
       "      <td>0.021739</td>\n",
       "    </tr>\n",
       "    <tr>\n",
       "      <th>34</th>\n",
       "      <td>0.021739</td>\n",
       "    </tr>\n",
       "    <tr>\n",
       "      <th>37</th>\n",
       "      <td>0.021739</td>\n",
       "    </tr>\n",
       "    <tr>\n",
       "      <th>36</th>\n",
       "      <td>0.021739</td>\n",
       "    </tr>\n",
       "  </tbody>\n",
       "</table>\n",
       "</div>"
      ],
      "text/plain": [
       "    page_rank\n",
       "0    0.021739\n",
       "15   0.021739\n",
       "8    0.021739\n",
       "14   0.021739\n",
       "23   0.021739\n",
       "38   0.021739\n",
       "13   0.021739\n",
       "34   0.021739\n",
       "37   0.021739\n",
       "36   0.021739"
      ]
     },
     "execution_count": 42,
     "metadata": {},
     "output_type": "execute_result"
    }
   ],
   "source": [
    "pr_df.head(10)"
   ]
  },
  {
   "cell_type": "code",
   "execution_count": 43,
   "id": "caf0404a",
   "metadata": {},
   "outputs": [
    {
     "data": {
      "image/png": "[encoded data removed]",
      "text/plain": [
       "<Figure size 1000x600 with 1 Axes>"
      ]
     },
     "metadata": {},
     "output_type": "display_data"
    }
   ],
   "source": [
    "title = 'Important Characters by PageRank'\n",
    "\n",
    "pr_df.head(10).plot.barh(figsize=(10,6), title=title).invert_yaxis()"
   ]
  },
  {
   "cell_type": "code",
   "execution_count": null,
   "id": "e78146f7",
   "metadata": {},
   "outputs": [],
   "source": []
  }
 ],
 "metadata": {
  "kernelspec": {
   "display_name": "Python 3 (ipykernel)",
   "language": "python",
   "name": "python3"
  },
  "language_info": {
   "codemirror_mode": {
    "name": "ipython",
    "version": 3
   },
   "file_extension": ".py",
   "mimetype": "text/x-python",
   "name": "python",
   "nbconvert_exporter": "python",
   "pygments_lexer": "ipython3",
   "version": "3.11.3"
  }
 },
 "nbformat": 4,
 "nbformat_minor": 5
}
