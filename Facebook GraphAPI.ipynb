{
 "cells": [
  {
   "cell_type": "markdown",
   "id": "ffed8f4b",
   "metadata": {},
   "source": [
    "#### \n",
    "NAME  : RAHINI DEVI S\n",
    "\n",
    "ROLLNO: 225229129"
   ]
  },
  {
   "cell_type": "markdown",
   "id": "b6c41edf",
   "metadata": {},
   "source": [
    "#### SMA_LAB-2\n",
    "Querying users connection information using Facebook GraphAPI and retrieving feed and engagement"
   ]
  },
  {
   "cell_type": "markdown",
   "id": "c6d05751",
   "metadata": {},
   "source": [
    "#### STEP 1: To get started, log in to your Facebook account and go"
   ]
  },
  {
   "cell_type": "code",
   "execution_count": 5,
   "id": "10c9d9b0",
   "metadata": {},
   "outputs": [],
   "source": [
    "ACCESS_TOKENS = \"EAAOE8bCgKl4BANX5Y2j5svRnB9NwCqK3ljwu51DNxNZBGeh1YPplplYZAv6s1ckoeOYSzf0VcWtoiSqDCC1ZAfyKuh5VjBWR0tlmQLJrgZBps4IZBO5XZC0xm5U2l6ZAM7ZA9UgtzseLcS5tWBF9ZA6tLoZBhrOZBBbeF2HKGquq7PwtiMkryEgm8eFWYynrCxJTnYLmznFcdcnAeMzYJauiZCZC2fS61oT6e4QRZCoDcTD8w2YKzQqZCTW18g81mzwX0FazE8ZD\""
   ]
  },
  {
   "cell_type": "markdown",
   "id": "9381de80",
   "metadata": {},
   "source": [
    "#### STEP 2: Install the necessary libraries"
   ]
  },
  {
   "cell_type": "code",
   "execution_count": 2,
   "id": "8086c332",
   "metadata": {},
   "outputs": [
    {
     "name": "stdout",
     "output_type": "stream",
     "text": [
      "Requirement already satisfied: facebook-sdk in c:\\users\\visit\\anaconda3\\lib\\site-packages (3.1.0)\n",
      "Requirement already satisfied: requests in c:\\users\\visit\\anaconda3\\lib\\site-packages (from facebook-sdk) (2.28.1)\n",
      "Requirement already satisfied: certifi>=2017.4.17 in c:\\users\\visit\\anaconda3\\lib\\site-packages (from requests->facebook-sdk) (2022.9.14)\n",
      "Requirement already satisfied: idna<4,>=2.5 in c:\\users\\visit\\anaconda3\\lib\\site-packages (from requests->facebook-sdk) (3.3)\n",
      "Requirement already satisfied: urllib3<1.27,>=1.21.1 in c:\\users\\visit\\anaconda3\\lib\\site-packages (from requests->facebook-sdk) (1.26.11)\n",
      "Requirement already satisfied: charset-normalizer<3,>=2 in c:\\users\\visit\\anaconda3\\lib\\site-packages (from requests->facebook-sdk) (2.0.4)\n",
      "Note: you may need to restart the kernel to use updated packages.\n"
     ]
    }
   ],
   "source": [
    "pip install facebook-sdk"
   ]
  },
  {
   "cell_type": "code",
   "execution_count": 3,
   "id": "11ec37eb",
   "metadata": {},
   "outputs": [],
   "source": [
    "import facebook\n",
    "import urllib3\n",
    "import requests\n",
    "import json"
   ]
  },
  {
   "cell_type": "markdown",
   "id": "d50ef8b2",
   "metadata": {},
   "source": [
    "#### STEP 3: Querying the graph API with python"
   ]
  },
  {
   "cell_type": "code",
   "execution_count": 6,
   "id": "687d4973",
   "metadata": {},
   "outputs": [
    {
     "name": "stdout",
     "output_type": "stream",
     "text": [
      "0\n"
     ]
    }
   ],
   "source": [
    "def pp(o):\n",
    "    print(json.dumps(0, indent=1))\n",
    "    \n",
    "g = facebook.GraphAPI(ACCESS_TOKENS, version='2.10')\n",
    "pp(g.get_object(\"me\"))"
   ]
  },
  {
   "cell_type": "markdown",
   "id": "554dd27a",
   "metadata": {},
   "source": [
    "#### STEP 4:\n",
    "Get the users connection names - likes,friends,feed,groups.\n",
    "This may require permissions  "
   ]
  },
  {
   "cell_type": "code",
   "execution_count": 7,
   "id": "3be148a0",
   "metadata": {},
   "outputs": [
    {
     "name": "stdout",
     "output_type": "stream",
     "text": [
      "0\n"
     ]
    }
   ],
   "source": [
    "pp(g.get_connections(id='me',connection_name='likes'))"
   ]
  },
  {
   "cell_type": "code",
   "execution_count": 8,
   "id": "099aa092",
   "metadata": {},
   "outputs": [
    {
     "name": "stdout",
     "output_type": "stream",
     "text": [
      "0\n"
     ]
    }
   ],
   "source": [
    "pp(g.get_connections(id='me',connection_name='friends'))"
   ]
  },
  {
   "cell_type": "code",
   "execution_count": 9,
   "id": "814769b7",
   "metadata": {},
   "outputs": [
    {
     "name": "stdout",
     "output_type": "stream",
     "text": [
      "0\n"
     ]
    }
   ],
   "source": [
    "pp(g.get_connections(id='me',connection_name='feed'))"
   ]
  },
  {
   "cell_type": "code",
   "execution_count": 10,
   "id": "1bb9a101",
   "metadata": {},
   "outputs": [
    {
     "name": "stdout",
     "output_type": "stream",
     "text": [
      "0\n"
     ]
    }
   ],
   "source": [
    "pp(g.get_connections(id='me',connection_name='groups'))"
   ]
  },
  {
   "cell_type": "markdown",
   "id": "eaf160a6",
   "metadata": {},
   "source": [
    "#### STEP 5: Get the information about a feed in your facebook page"
   ]
  },
  {
   "cell_type": "code",
   "execution_count": 12,
   "id": "c0865ebb",
   "metadata": {},
   "outputs": [
    {
     "name": "stdout",
     "output_type": "stream",
     "text": [
      "{'name': 'Social Media Analysis', 'id': '105008732674965'}\n"
     ]
    }
   ],
   "source": [
    "access_token = \"EAAOE8bCgKl4BANX5Y2j5svRnB9NwCqK3ljwu51DNxNZBGeh1YPplplYZAv6s1ckoeOYSzf0VcWtoiSqDCC1ZAfyKuh5VjBWR0tlmQLJrgZBps4IZBO5XZC0xm5U2l6ZAM7ZA9UgtzseLcS5tWBF9ZA6tLoZBhrOZBBbeF2HKGquq7PwtiMkryEgm8eFWYynrCxJTnYLmznFcdcnAeMzYJauiZCZC2fS61oT6e4QRZCoDcTD8w2YKzQqZCTW18g81mzwX0FazE8ZD\"\n",
    "\n",
    "graph = facebook.GraphAPI(access_token)\n",
    "\n",
    "# Replace <PAGE_ID> with the ID of your Facebook page\n",
    "page_info = graph.get_object('105008732674965')\n",
    "\n",
    "print(page_info)"
   ]
  },
  {
   "cell_type": "markdown",
   "id": "93a860cd",
   "metadata": {},
   "source": [
    "#### STEP 6: Get the metrics towards engagement of connections towards your Facebook post"
   ]
  },
  {
   "cell_type": "code",
   "execution_count": 13,
   "id": "f5fe84d4",
   "metadata": {},
   "outputs": [
    {
     "name": "stdout",
     "output_type": "stream",
     "text": [
      "{'error': {'message': 'Cannot specify metric in both the path and query parameter', 'type': 'OAuthException', 'code': 2500, 'fbtrace_id': 'A3HKzKrBh9-i4gr2lYFCrBB'}}\n"
     ]
    }
   ],
   "source": [
    "access_token = \"EAAOE8bCgKl4BANX5Y2j5svRnB9NwCqK3ljwu51DNxNZBGeh1YPplplYZAv6s1ckoeOYSzf0VcWtoiSqDCC1ZAfyKuh5VjBWR0tlmQLJrgZBps4IZBO5XZC0xm5U2l6ZAM7ZA9UgtzseLcS5tWBF9ZA6tLoZBhrOZBBbeF2HKGquq7PwtiMkryEgm8eFWYynrCxJTnYLmznFcdcnAeMzYJauiZCZC2fS61oT6e4QRZCoDcTD8w2YKzQqZCTW18g81mzwX0FazE8ZD\"\n",
    "# Replace <POST_ID> with the ID of your Facebook post\n",
    "endpoint = f\"https://graph.facebook.com/v12.0/113056708524603/insights/post_engaged_users\"\n",
    "\n",
    "params = {\n",
    "    'access_token': access_token,\n",
    "    'metric': 'post_engaged_users,post_engaged_fan',\n",
    "    'period': 'lifetime'\n",
    "}\n",
    "\n",
    "response = requests.get(endpoint, params=params)\n",
    "\n",
    "print(response.json())\n"
   ]
  },
  {
   "cell_type": "code",
   "execution_count": null,
   "id": "1b9a3b02",
   "metadata": {},
   "outputs": [],
   "source": []
  }
 ],
 "metadata": {
  "kernelspec": {
   "display_name": "Python 3 (ipykernel)",
   "language": "python",
   "name": "python3"
  },
  "language_info": {
   "codemirror_mode": {
    "name": "ipython",
    "version": 3
   },
   "file_extension": ".py",
   "mimetype": "text/x-python",
   "name": "python",
   "nbconvert_exporter": "python",
   "pygments_lexer": "ipython3",
   "version": "3.11.3"
  }
 },
 "nbformat": 4,
 "nbformat_minor": 5
}
